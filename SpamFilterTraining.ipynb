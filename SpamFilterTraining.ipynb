{
  "nbformat": 4,
  "nbformat_minor": 0,
  "metadata": {
    "colab": {
      "name": "Training.ipynb",
      "provenance": [],
      "collapsed_sections": [],
      "machine_shape": "hm",
      "mount_file_id": "1-WQcbsbUqQUYjPfcxTgHYYVCiT9J48a0",
      "authorship_tag": "ABX9TyPCaTRJJnynDcaeB+oS5LAM",
      "include_colab_link": true
    },
    "kernelspec": {
      "name": "python3",
      "display_name": "Python 3"
    },
    "accelerator": "GPU"
  },
  "cells": [
    {
      "cell_type": "markdown",
      "metadata": {
        "id": "view-in-github",
        "colab_type": "text"
      },
      "source": [
        "<a href=\"https://colab.research.google.com/github/venkateshchettiar/SpamFilter/blob/master/SpamFilterTraining.ipynb\" target=\"_parent\"><img src=\"https://colab.research.google.com/assets/colab-badge.svg\" alt=\"Open In Colab\"/></a>"
      ]
    },
    {
      "cell_type": "markdown",
      "metadata": {
        "id": "YI1WQOPYKEIj",
        "colab_type": "text"
      },
      "source": [
        "##**Importing Package**"
      ]
    },
    {
      "cell_type": "code",
      "metadata": {
        "id": "6iZ_6reGDrTO",
        "colab_type": "code",
        "colab": {
          "base_uri": "https://localhost:8080/",
          "height": 70
        },
        "outputId": "7971866e-82f4-4c44-f8ac-a502fd684862"
      },
      "source": [
        "import pandas as pd\n",
        "import numpy as np\n",
        "from sklearn.model_selection import train_test_split\n",
        "from sklearn.preprocessing import LabelEncoder\n",
        "from sklearn.utils import class_weight\n",
        "from keras.models import Model\n",
        "from keras.layers import LSTM, Activation, Dense, Dropout, Input, Embedding\n",
        "from keras.optimizers import Adam\n",
        "from keras.preprocessing.text import Tokenizer\n",
        "from keras.preprocessing import sequence\n",
        "from keras.utils import to_categorical\n",
        "from keras import callbacks\n",
        "from keras.callbacks import EarlyStopping\n",
        "from keras.initializers import he_uniform\n",
        "%matplotlib inline"
      ],
      "execution_count": 1,
      "outputs": [
        {
          "output_type": "stream",
          "text": [
            "/usr/local/lib/python3.6/dist-packages/statsmodels/tools/_testing.py:19: FutureWarning: pandas.util.testing is deprecated. Use the functions in the public API at pandas.testing instead.\n",
            "  import pandas.util.testing as tm\n",
            "Using TensorFlow backend.\n"
          ],
          "name": "stderr"
        }
      ]
    },
    {
      "cell_type": "markdown",
      "metadata": {
        "id": "BAY4DUOqKj_-",
        "colab_type": "text"
      },
      "source": [
        "#**Reading .csv file**"
      ]
    },
    {
      "cell_type": "code",
      "metadata": {
        "id": "SMcPdyyVD0Dx",
        "colab_type": "code",
        "colab": {}
      },
      "source": [
        "file = pd.read_csv(\"/content/drive/My Drive/DeepLearning/SpamFilter_Cleaned_Data.csv\")"
      ],
      "execution_count": 2,
      "outputs": []
    },
    {
      "cell_type": "code",
      "metadata": {
        "id": "cMMHcVkvEBxa",
        "colab_type": "code",
        "colab": {
          "base_uri": "https://localhost:8080/",
          "height": 197
        },
        "outputId": "5a57274a-8cf1-48d5-f575-c6de93e8146d"
      },
      "source": [
        "file.head()"
      ],
      "execution_count": 3,
      "outputs": [
        {
          "output_type": "execute_result",
          "data": {
            "text/html": [
              "<div>\n",
              "<style scoped>\n",
              "    .dataframe tbody tr th:only-of-type {\n",
              "        vertical-align: middle;\n",
              "    }\n",
              "\n",
              "    .dataframe tbody tr th {\n",
              "        vertical-align: top;\n",
              "    }\n",
              "\n",
              "    .dataframe thead th {\n",
              "        text-align: right;\n",
              "    }\n",
              "</style>\n",
              "<table border=\"1\" class=\"dataframe\">\n",
              "  <thead>\n",
              "    <tr style=\"text-align: right;\">\n",
              "      <th></th>\n",
              "      <th>Question_Text_New</th>\n",
              "      <th>target</th>\n",
              "    </tr>\n",
              "  </thead>\n",
              "  <tbody>\n",
              "    <tr>\n",
              "      <th>0</th>\n",
              "      <td>quebec nationalists see province nation</td>\n",
              "      <td>0</td>\n",
              "    </tr>\n",
              "    <tr>\n",
              "      <th>1</th>\n",
              "      <td>adopt dog would encourage people shop</td>\n",
              "      <td>0</td>\n",
              "    </tr>\n",
              "    <tr>\n",
              "      <th>2</th>\n",
              "      <td>velocity affect time space geometry</td>\n",
              "      <td>0</td>\n",
              "    </tr>\n",
              "    <tr>\n",
              "      <th>3</th>\n",
              "      <td>otto von guericke use magdeburg hemispheres</td>\n",
              "      <td>0</td>\n",
              "    </tr>\n",
              "    <tr>\n",
              "      <th>4</th>\n",
              "      <td>convert montra helicon mountain bike change tyres</td>\n",
              "      <td>0</td>\n",
              "    </tr>\n",
              "  </tbody>\n",
              "</table>\n",
              "</div>"
            ],
            "text/plain": [
              "                                   Question_Text_New  target\n",
              "0            quebec nationalists see province nation       0\n",
              "1              adopt dog would encourage people shop       0\n",
              "2                velocity affect time space geometry       0\n",
              "3        otto von guericke use magdeburg hemispheres       0\n",
              "4  convert montra helicon mountain bike change tyres       0"
            ]
          },
          "metadata": {
            "tags": []
          },
          "execution_count": 3
        }
      ]
    },
    {
      "cell_type": "code",
      "metadata": {
        "id": "N6erIqVaEscj",
        "colab_type": "code",
        "colab": {
          "base_uri": "https://localhost:8080/",
          "height": 34
        },
        "outputId": "d3a5fcfb-d02f-4180-acfe-8e2161b77b1f"
      },
      "source": [
        "file.shape"
      ],
      "execution_count": 4,
      "outputs": [
        {
          "output_type": "execute_result",
          "data": {
            "text/plain": [
              "(1306122, 2)"
            ]
          },
          "metadata": {
            "tags": []
          },
          "execution_count": 4
        }
      ]
    },
    {
      "cell_type": "code",
      "metadata": {
        "id": "ervDVVRXE8Wa",
        "colab_type": "code",
        "colab": {
          "base_uri": "https://localhost:8080/",
          "height": 70
        },
        "outputId": "b7d2efaf-2ba6-4e38-a601-c511aee43665"
      },
      "source": [
        "file.isnull().sum()"
      ],
      "execution_count": 5,
      "outputs": [
        {
          "output_type": "execute_result",
          "data": {
            "text/plain": [
              "Question_Text_New    404\n",
              "target                 0\n",
              "dtype: int64"
            ]
          },
          "metadata": {
            "tags": []
          },
          "execution_count": 5
        }
      ]
    },
    {
      "cell_type": "code",
      "metadata": {
        "id": "rT6miBz-FK9r",
        "colab_type": "code",
        "colab": {}
      },
      "source": [
        "file.dropna(axis=0, inplace=True)"
      ],
      "execution_count": 6,
      "outputs": []
    },
    {
      "cell_type": "code",
      "metadata": {
        "id": "lV8zX0tJBoPS",
        "colab_type": "code",
        "colab": {
          "base_uri": "https://localhost:8080/",
          "height": 70
        },
        "outputId": "b2319040-c812-4114-8f79-989f28617cfa"
      },
      "source": [
        "file.isnull().any()"
      ],
      "execution_count": 7,
      "outputs": [
        {
          "output_type": "execute_result",
          "data": {
            "text/plain": [
              "Question_Text_New    False\n",
              "target               False\n",
              "dtype: bool"
            ]
          },
          "metadata": {
            "tags": []
          },
          "execution_count": 7
        }
      ]
    },
    {
      "cell_type": "code",
      "metadata": {
        "id": "YRMHXpqiBsna",
        "colab_type": "code",
        "colab": {}
      },
      "source": [
        "file['word_count'] = file['Question_Text_New'].apply(lambda x:len(str(x).split(' ')))"
      ],
      "execution_count": 8,
      "outputs": []
    },
    {
      "cell_type": "code",
      "metadata": {
        "id": "Kar_A-lRD6tw",
        "colab_type": "code",
        "colab": {
          "base_uri": "https://localhost:8080/",
          "height": 197
        },
        "outputId": "1f4a0860-8e14-4d30-fb56-b4ddd5f436c6"
      },
      "source": [
        "file[['Question_Text_New','word_count']].head()"
      ],
      "execution_count": 9,
      "outputs": [
        {
          "output_type": "execute_result",
          "data": {
            "text/html": [
              "<div>\n",
              "<style scoped>\n",
              "    .dataframe tbody tr th:only-of-type {\n",
              "        vertical-align: middle;\n",
              "    }\n",
              "\n",
              "    .dataframe tbody tr th {\n",
              "        vertical-align: top;\n",
              "    }\n",
              "\n",
              "    .dataframe thead th {\n",
              "        text-align: right;\n",
              "    }\n",
              "</style>\n",
              "<table border=\"1\" class=\"dataframe\">\n",
              "  <thead>\n",
              "    <tr style=\"text-align: right;\">\n",
              "      <th></th>\n",
              "      <th>Question_Text_New</th>\n",
              "      <th>word_count</th>\n",
              "    </tr>\n",
              "  </thead>\n",
              "  <tbody>\n",
              "    <tr>\n",
              "      <th>0</th>\n",
              "      <td>quebec nationalists see province nation</td>\n",
              "      <td>5</td>\n",
              "    </tr>\n",
              "    <tr>\n",
              "      <th>1</th>\n",
              "      <td>adopt dog would encourage people shop</td>\n",
              "      <td>6</td>\n",
              "    </tr>\n",
              "    <tr>\n",
              "      <th>2</th>\n",
              "      <td>velocity affect time space geometry</td>\n",
              "      <td>5</td>\n",
              "    </tr>\n",
              "    <tr>\n",
              "      <th>3</th>\n",
              "      <td>otto von guericke use magdeburg hemispheres</td>\n",
              "      <td>6</td>\n",
              "    </tr>\n",
              "    <tr>\n",
              "      <th>4</th>\n",
              "      <td>convert montra helicon mountain bike change tyres</td>\n",
              "      <td>7</td>\n",
              "    </tr>\n",
              "  </tbody>\n",
              "</table>\n",
              "</div>"
            ],
            "text/plain": [
              "                                   Question_Text_New  word_count\n",
              "0            quebec nationalists see province nation           5\n",
              "1              adopt dog would encourage people shop           6\n",
              "2                velocity affect time space geometry           5\n",
              "3        otto von guericke use magdeburg hemispheres           6\n",
              "4  convert montra helicon mountain bike change tyres           7"
            ]
          },
          "metadata": {
            "tags": []
          },
          "execution_count": 9
        }
      ]
    },
    {
      "cell_type": "code",
      "metadata": {
        "id": "ad5ISw6KEK7l",
        "colab_type": "code",
        "colab": {
          "base_uri": "https://localhost:8080/",
          "height": 34
        },
        "outputId": "144fcc97-ff77-4e11-c45c-57431438d98a"
      },
      "source": [
        "max(file['word_count']),min(file['word_count'])"
      ],
      "execution_count": 10,
      "outputs": [
        {
          "output_type": "execute_result",
          "data": {
            "text/plain": [
              "(53, 1)"
            ]
          },
          "metadata": {
            "tags": []
          },
          "execution_count": 10
        }
      ]
    },
    {
      "cell_type": "code",
      "metadata": {
        "id": "g349Kp3ZE0kO",
        "colab_type": "code",
        "colab": {}
      },
      "source": [
        "file['char_count'] = file['Question_Text_New'].str.len()"
      ],
      "execution_count": 11,
      "outputs": []
    },
    {
      "cell_type": "code",
      "metadata": {
        "id": "1olQx3o5FUdr",
        "colab_type": "code",
        "colab": {
          "base_uri": "https://localhost:8080/",
          "height": 197
        },
        "outputId": "b9ceacb7-b2b5-4cd6-d876-9b4442c0c152"
      },
      "source": [
        "file[['Question_Text_New','char_count']].head()"
      ],
      "execution_count": 12,
      "outputs": [
        {
          "output_type": "execute_result",
          "data": {
            "text/html": [
              "<div>\n",
              "<style scoped>\n",
              "    .dataframe tbody tr th:only-of-type {\n",
              "        vertical-align: middle;\n",
              "    }\n",
              "\n",
              "    .dataframe tbody tr th {\n",
              "        vertical-align: top;\n",
              "    }\n",
              "\n",
              "    .dataframe thead th {\n",
              "        text-align: right;\n",
              "    }\n",
              "</style>\n",
              "<table border=\"1\" class=\"dataframe\">\n",
              "  <thead>\n",
              "    <tr style=\"text-align: right;\">\n",
              "      <th></th>\n",
              "      <th>Question_Text_New</th>\n",
              "      <th>char_count</th>\n",
              "    </tr>\n",
              "  </thead>\n",
              "  <tbody>\n",
              "    <tr>\n",
              "      <th>0</th>\n",
              "      <td>quebec nationalists see province nation</td>\n",
              "      <td>39</td>\n",
              "    </tr>\n",
              "    <tr>\n",
              "      <th>1</th>\n",
              "      <td>adopt dog would encourage people shop</td>\n",
              "      <td>37</td>\n",
              "    </tr>\n",
              "    <tr>\n",
              "      <th>2</th>\n",
              "      <td>velocity affect time space geometry</td>\n",
              "      <td>35</td>\n",
              "    </tr>\n",
              "    <tr>\n",
              "      <th>3</th>\n",
              "      <td>otto von guericke use magdeburg hemispheres</td>\n",
              "      <td>43</td>\n",
              "    </tr>\n",
              "    <tr>\n",
              "      <th>4</th>\n",
              "      <td>convert montra helicon mountain bike change tyres</td>\n",
              "      <td>49</td>\n",
              "    </tr>\n",
              "  </tbody>\n",
              "</table>\n",
              "</div>"
            ],
            "text/plain": [
              "                                   Question_Text_New  char_count\n",
              "0            quebec nationalists see province nation          39\n",
              "1              adopt dog would encourage people shop          37\n",
              "2                velocity affect time space geometry          35\n",
              "3        otto von guericke use magdeburg hemispheres          43\n",
              "4  convert montra helicon mountain bike change tyres          49"
            ]
          },
          "metadata": {
            "tags": []
          },
          "execution_count": 12
        }
      ]
    },
    {
      "cell_type": "code",
      "metadata": {
        "id": "zEMppaYKFeJu",
        "colab_type": "code",
        "colab": {
          "base_uri": "https://localhost:8080/",
          "height": 34
        },
        "outputId": "d351921d-181d-4361-d8af-28fd75a72c71"
      },
      "source": [
        "max(file['char_count']),min(file['char_count'])"
      ],
      "execution_count": 13,
      "outputs": [
        {
          "output_type": "execute_result",
          "data": {
            "text/plain": [
              "(335, 1)"
            ]
          },
          "metadata": {
            "tags": []
          },
          "execution_count": 13
        }
      ]
    },
    {
      "cell_type": "code",
      "metadata": {
        "id": "a4e9yJBzFmmT",
        "colab_type": "code",
        "colab": {}
      },
      "source": [
        "file['#Tags'] = file['Question_Text_New'].apply(lambda x:len([x for x in x.split() if x.startswith('#')]))"
      ],
      "execution_count": 14,
      "outputs": []
    },
    {
      "cell_type": "code",
      "metadata": {
        "id": "8zDz79hYJTFu",
        "colab_type": "code",
        "colab": {
          "base_uri": "https://localhost:8080/",
          "height": 197
        },
        "outputId": "bbf9a4f7-4dc5-4fc8-f778-71440953f1b6"
      },
      "source": [
        "file[['Question_Text_New','#Tags']].head()"
      ],
      "execution_count": 15,
      "outputs": [
        {
          "output_type": "execute_result",
          "data": {
            "text/html": [
              "<div>\n",
              "<style scoped>\n",
              "    .dataframe tbody tr th:only-of-type {\n",
              "        vertical-align: middle;\n",
              "    }\n",
              "\n",
              "    .dataframe tbody tr th {\n",
              "        vertical-align: top;\n",
              "    }\n",
              "\n",
              "    .dataframe thead th {\n",
              "        text-align: right;\n",
              "    }\n",
              "</style>\n",
              "<table border=\"1\" class=\"dataframe\">\n",
              "  <thead>\n",
              "    <tr style=\"text-align: right;\">\n",
              "      <th></th>\n",
              "      <th>Question_Text_New</th>\n",
              "      <th>#Tags</th>\n",
              "    </tr>\n",
              "  </thead>\n",
              "  <tbody>\n",
              "    <tr>\n",
              "      <th>0</th>\n",
              "      <td>quebec nationalists see province nation</td>\n",
              "      <td>0</td>\n",
              "    </tr>\n",
              "    <tr>\n",
              "      <th>1</th>\n",
              "      <td>adopt dog would encourage people shop</td>\n",
              "      <td>0</td>\n",
              "    </tr>\n",
              "    <tr>\n",
              "      <th>2</th>\n",
              "      <td>velocity affect time space geometry</td>\n",
              "      <td>0</td>\n",
              "    </tr>\n",
              "    <tr>\n",
              "      <th>3</th>\n",
              "      <td>otto von guericke use magdeburg hemispheres</td>\n",
              "      <td>0</td>\n",
              "    </tr>\n",
              "    <tr>\n",
              "      <th>4</th>\n",
              "      <td>convert montra helicon mountain bike change tyres</td>\n",
              "      <td>0</td>\n",
              "    </tr>\n",
              "  </tbody>\n",
              "</table>\n",
              "</div>"
            ],
            "text/plain": [
              "                                   Question_Text_New  #Tags\n",
              "0            quebec nationalists see province nation      0\n",
              "1              adopt dog would encourage people shop      0\n",
              "2                velocity affect time space geometry      0\n",
              "3        otto von guericke use magdeburg hemispheres      0\n",
              "4  convert montra helicon mountain bike change tyres      0"
            ]
          },
          "metadata": {
            "tags": []
          },
          "execution_count": 15
        }
      ]
    },
    {
      "cell_type": "code",
      "metadata": {
        "id": "s7wo3YEaJjyW",
        "colab_type": "code",
        "colab": {
          "base_uri": "https://localhost:8080/",
          "height": 34
        },
        "outputId": "0b53b1b8-427f-4630-cea0-79ce7194f97b"
      },
      "source": [
        "max(file['#Tags']),min(file['#Tags'])"
      ],
      "execution_count": 16,
      "outputs": [
        {
          "output_type": "execute_result",
          "data": {
            "text/plain": [
              "(0, 0)"
            ]
          },
          "metadata": {
            "tags": []
          },
          "execution_count": 16
        }
      ]
    },
    {
      "cell_type": "code",
      "metadata": {
        "id": "HG7vdGYAKKIU",
        "colab_type": "code",
        "colab": {}
      },
      "source": [
        "file['numeric'] = file['Question_Text_New'].apply(lambda x:len([x for x in x.split() if x.isdigit()]))"
      ],
      "execution_count": 17,
      "outputs": []
    },
    {
      "cell_type": "code",
      "metadata": {
        "id": "fP9aU_UDKfOY",
        "colab_type": "code",
        "colab": {
          "base_uri": "https://localhost:8080/",
          "height": 197
        },
        "outputId": "401fbac1-0996-4f19-a488-6aa2d4566bb7"
      },
      "source": [
        "file[['Question_Text_New','numeric']].head()"
      ],
      "execution_count": 18,
      "outputs": [
        {
          "output_type": "execute_result",
          "data": {
            "text/html": [
              "<div>\n",
              "<style scoped>\n",
              "    .dataframe tbody tr th:only-of-type {\n",
              "        vertical-align: middle;\n",
              "    }\n",
              "\n",
              "    .dataframe tbody tr th {\n",
              "        vertical-align: top;\n",
              "    }\n",
              "\n",
              "    .dataframe thead th {\n",
              "        text-align: right;\n",
              "    }\n",
              "</style>\n",
              "<table border=\"1\" class=\"dataframe\">\n",
              "  <thead>\n",
              "    <tr style=\"text-align: right;\">\n",
              "      <th></th>\n",
              "      <th>Question_Text_New</th>\n",
              "      <th>numeric</th>\n",
              "    </tr>\n",
              "  </thead>\n",
              "  <tbody>\n",
              "    <tr>\n",
              "      <th>0</th>\n",
              "      <td>quebec nationalists see province nation</td>\n",
              "      <td>0</td>\n",
              "    </tr>\n",
              "    <tr>\n",
              "      <th>1</th>\n",
              "      <td>adopt dog would encourage people shop</td>\n",
              "      <td>0</td>\n",
              "    </tr>\n",
              "    <tr>\n",
              "      <th>2</th>\n",
              "      <td>velocity affect time space geometry</td>\n",
              "      <td>0</td>\n",
              "    </tr>\n",
              "    <tr>\n",
              "      <th>3</th>\n",
              "      <td>otto von guericke use magdeburg hemispheres</td>\n",
              "      <td>0</td>\n",
              "    </tr>\n",
              "    <tr>\n",
              "      <th>4</th>\n",
              "      <td>convert montra helicon mountain bike change tyres</td>\n",
              "      <td>0</td>\n",
              "    </tr>\n",
              "  </tbody>\n",
              "</table>\n",
              "</div>"
            ],
            "text/plain": [
              "                                   Question_Text_New  numeric\n",
              "0            quebec nationalists see province nation        0\n",
              "1              adopt dog would encourage people shop        0\n",
              "2                velocity affect time space geometry        0\n",
              "3        otto von guericke use magdeburg hemispheres        0\n",
              "4  convert montra helicon mountain bike change tyres        0"
            ]
          },
          "metadata": {
            "tags": []
          },
          "execution_count": 18
        }
      ]
    },
    {
      "cell_type": "code",
      "metadata": {
        "id": "69PRG3MYKqgu",
        "colab_type": "code",
        "colab": {
          "base_uri": "https://localhost:8080/",
          "height": 34
        },
        "outputId": "a0a50e10-3b8c-43aa-99d9-c1e1db6d8470"
      },
      "source": [
        "max(file['numeric']),min(file['numeric'])"
      ],
      "execution_count": 19,
      "outputs": [
        {
          "output_type": "execute_result",
          "data": {
            "text/plain": [
              "(2, 0)"
            ]
          },
          "metadata": {
            "tags": []
          },
          "execution_count": 19
        }
      ]
    },
    {
      "cell_type": "code",
      "metadata": {
        "id": "oCrFagNLKv6h",
        "colab_type": "code",
        "colab": {
          "base_uri": "https://localhost:8080/",
          "height": 87
        },
        "outputId": "ed454a15-db32-458e-a1c0-b0cf7a8b2fd0"
      },
      "source": [
        "file['Question_Text_New'][file['numeric']==2]"
      ],
      "execution_count": 20,
      "outputs": [
        {
          "output_type": "execute_result",
          "data": {
            "text/plain": [
              "687189    evaluate limit ⁴x ⁴ ³x ³ x approach give function\n",
              "853043                               remainder ²²² ³ divide\n",
              "886025                                         solve ³ ⁿ² ²\n",
              "Name: Question_Text_New, dtype: object"
            ]
          },
          "metadata": {
            "tags": []
          },
          "execution_count": 20
        }
      ]
    },
    {
      "cell_type": "code",
      "metadata": {
        "id": "smYrmdJk4uHO",
        "colab_type": "code",
        "colab": {
          "base_uri": "https://localhost:8080/",
          "height": 197
        },
        "outputId": "a05aab7a-cfae-4481-c128-19c55fce987e"
      },
      "source": [
        "file.head()"
      ],
      "execution_count": 21,
      "outputs": [
        {
          "output_type": "execute_result",
          "data": {
            "text/html": [
              "<div>\n",
              "<style scoped>\n",
              "    .dataframe tbody tr th:only-of-type {\n",
              "        vertical-align: middle;\n",
              "    }\n",
              "\n",
              "    .dataframe tbody tr th {\n",
              "        vertical-align: top;\n",
              "    }\n",
              "\n",
              "    .dataframe thead th {\n",
              "        text-align: right;\n",
              "    }\n",
              "</style>\n",
              "<table border=\"1\" class=\"dataframe\">\n",
              "  <thead>\n",
              "    <tr style=\"text-align: right;\">\n",
              "      <th></th>\n",
              "      <th>Question_Text_New</th>\n",
              "      <th>target</th>\n",
              "      <th>word_count</th>\n",
              "      <th>char_count</th>\n",
              "      <th>#Tags</th>\n",
              "      <th>numeric</th>\n",
              "    </tr>\n",
              "  </thead>\n",
              "  <tbody>\n",
              "    <tr>\n",
              "      <th>0</th>\n",
              "      <td>quebec nationalists see province nation</td>\n",
              "      <td>0</td>\n",
              "      <td>5</td>\n",
              "      <td>39</td>\n",
              "      <td>0</td>\n",
              "      <td>0</td>\n",
              "    </tr>\n",
              "    <tr>\n",
              "      <th>1</th>\n",
              "      <td>adopt dog would encourage people shop</td>\n",
              "      <td>0</td>\n",
              "      <td>6</td>\n",
              "      <td>37</td>\n",
              "      <td>0</td>\n",
              "      <td>0</td>\n",
              "    </tr>\n",
              "    <tr>\n",
              "      <th>2</th>\n",
              "      <td>velocity affect time space geometry</td>\n",
              "      <td>0</td>\n",
              "      <td>5</td>\n",
              "      <td>35</td>\n",
              "      <td>0</td>\n",
              "      <td>0</td>\n",
              "    </tr>\n",
              "    <tr>\n",
              "      <th>3</th>\n",
              "      <td>otto von guericke use magdeburg hemispheres</td>\n",
              "      <td>0</td>\n",
              "      <td>6</td>\n",
              "      <td>43</td>\n",
              "      <td>0</td>\n",
              "      <td>0</td>\n",
              "    </tr>\n",
              "    <tr>\n",
              "      <th>4</th>\n",
              "      <td>convert montra helicon mountain bike change tyres</td>\n",
              "      <td>0</td>\n",
              "      <td>7</td>\n",
              "      <td>49</td>\n",
              "      <td>0</td>\n",
              "      <td>0</td>\n",
              "    </tr>\n",
              "  </tbody>\n",
              "</table>\n",
              "</div>"
            ],
            "text/plain": [
              "                                   Question_Text_New  target  ...  #Tags  numeric\n",
              "0            quebec nationalists see province nation       0  ...      0        0\n",
              "1              adopt dog would encourage people shop       0  ...      0        0\n",
              "2                velocity affect time space geometry       0  ...      0        0\n",
              "3        otto von guericke use magdeburg hemispheres       0  ...      0        0\n",
              "4  convert montra helicon mountain bike change tyres       0  ...      0        0\n",
              "\n",
              "[5 rows x 6 columns]"
            ]
          },
          "metadata": {
            "tags": []
          },
          "execution_count": 21
        }
      ]
    },
    {
      "cell_type": "markdown",
      "metadata": {
        "id": "VQLeO1bsMTi0",
        "colab_type": "text"
      },
      "source": [
        "#**Splitting the data into Training & Validation**"
      ]
    },
    {
      "cell_type": "code",
      "metadata": {
        "id": "UZO7AmL9LE7K",
        "colab_type": "code",
        "colab": {}
      },
      "source": [
        "X = file.Question_Text_New\n",
        "y = file.target"
      ],
      "execution_count": 22,
      "outputs": []
    },
    {
      "cell_type": "code",
      "metadata": {
        "id": "eNcJCErELeG0",
        "colab_type": "code",
        "colab": {}
      },
      "source": [
        "X_train, X_test, y_train, y_test = train_test_split(X, y, test_size = 0.2,stratify = y, random_state = 40)"
      ],
      "execution_count": 23,
      "outputs": []
    },
    {
      "cell_type": "code",
      "metadata": {
        "id": "u5qlPtIYNOKN",
        "colab_type": "code",
        "colab": {
          "base_uri": "https://localhost:8080/",
          "height": 34
        },
        "outputId": "ce0e297b-6f11-40f6-dc87-dfb296d9948e"
      },
      "source": [
        "(X_train.shape,X_test.shape,y_train.shape,y_test.shape)"
      ],
      "execution_count": 24,
      "outputs": [
        {
          "output_type": "execute_result",
          "data": {
            "text/plain": [
              "((1044574,), (261144,), (1044574,), (261144,))"
            ]
          },
          "metadata": {
            "tags": []
          },
          "execution_count": 24
        }
      ]
    },
    {
      "cell_type": "markdown",
      "metadata": {
        "id": "lkt8eHlSM31b",
        "colab_type": "text"
      },
      "source": [
        "##**Word Embedding**"
      ]
    },
    {
      "cell_type": "code",
      "metadata": {
        "id": "NCOqDQAHxPtI",
        "colab_type": "code",
        "colab": {}
      },
      "source": [
        "def tokenization(data):\n",
        "\n",
        "  \"\"\"This function creates the vocabulary index based on word frequency and \n",
        "  Transforms each text in texts to a sequence of integers and \n",
        "  also returns vocabulary length\n",
        "  \"\"\"\n",
        "\n",
        "  tok = Tokenizer(char_level=False,split=' ')\n",
        "  #this creates the dictionary\n",
        "  tok.fit_on_texts(data)\n",
        "  #this transforms the texts in to sequences of indices\n",
        "  return tok.texts_to_sequences(data), len(tok.index_word.keys())\n",
        "\n",
        "def padding(sequences_data,maxlen):\n",
        "\n",
        "  \"\"\"This function pads variable length sequences.The default padding value is 0.0\"\"\"\n",
        "\n",
        "  return sequence.pad_sequences(sequences_data,maxlen=maxlen)"
      ],
      "execution_count": 25,
      "outputs": []
    },
    {
      "cell_type": "code",
      "metadata": {
        "id": "LTQ7TvMn5sQg",
        "colab_type": "code",
        "colab": {
          "base_uri": "https://localhost:8080/",
          "height": 34
        },
        "outputId": "0eb4c29c-bd85-4ca9-fc52-e193a914ab10"
      },
      "source": [
        "np.quantile(file[\"word_count\"],0.95)"
      ],
      "execution_count": 26,
      "outputs": [
        {
          "output_type": "execute_result",
          "data": {
            "text/plain": [
              "13.0"
            ]
          },
          "metadata": {
            "tags": []
          },
          "execution_count": 26
        }
      ]
    },
    {
      "cell_type": "code",
      "metadata": {
        "id": "FzdCgI9a5wb5",
        "colab_type": "code",
        "colab": {}
      },
      "source": [
        "maxlen = 13\n",
        "sequences_train, vocab_len = tokenization(X_train)\n",
        "sequences_train_matrix = padding(sequences_train,maxlen)"
      ],
      "execution_count": 27,
      "outputs": []
    },
    {
      "cell_type": "code",
      "metadata": {
        "id": "aAGPdCu96Aby",
        "colab_type": "code",
        "colab": {
          "base_uri": "https://localhost:8080/",
          "height": 34
        },
        "outputId": "118f68bf-1ee2-4a14-eb5f-13aa93e7794f"
      },
      "source": [
        "vocab_len"
      ],
      "execution_count": 28,
      "outputs": [
        {
          "output_type": "execute_result",
          "data": {
            "text/plain": [
              "181506"
            ]
          },
          "metadata": {
            "tags": []
          },
          "execution_count": 28
        }
      ]
    },
    {
      "cell_type": "markdown",
      "metadata": {
        "id": "9vk-mrO_NcBY",
        "colab_type": "text"
      },
      "source": [
        "##**The Training datasets contains 181506 Unique Vocabulary**"
      ]
    },
    {
      "cell_type": "code",
      "metadata": {
        "id": "9FcRFsoS6Hzz",
        "colab_type": "code",
        "colab": {}
      },
      "source": [
        "sequences_test, _ = tokenization(X_test)\n",
        "sequences_test_matrix = padding(sequences_test,maxlen)"
      ],
      "execution_count": 29,
      "outputs": []
    },
    {
      "cell_type": "markdown",
      "metadata": {
        "id": "vAjYC0BmNCmL",
        "colab_type": "text"
      },
      "source": [
        "##**Building LSTM Model**"
      ]
    },
    {
      "cell_type": "code",
      "metadata": {
        "id": "DG3XS5_O6Ms5",
        "colab_type": "code",
        "colab": {}
      },
      "source": [
        "def build_model(input,LSTM_units,nb_classes,finalAct='sigmoid'):\n",
        "\n",
        "    \"\"\"This function Builds the LSTM Model using keras Functional API\"\"\"\n",
        "\n",
        "    #Defining basic parameters\n",
        "    embedding_input_dim = vocab_len\n",
        "    embedding_output_dim = 200\n",
        "    initializer = he_uniform(seed=200)\n",
        "    \n",
        "    #Input Layer, shape=15.0\n",
        "    inputs = Input(name='inputs',shape=[input])\n",
        "    #Embedding Layer\n",
        "    layer = Embedding(embedding_input_dim+1,embedding_output_dim,input_length=input,\n",
        "                      mask_zero=True,embeddings_initializer=initializer)(inputs)\n",
        "    #LSTM Layer\n",
        "    layer = LSTM(LSTM_units,kernel_initializer=initializer)(layer)\n",
        "    #Classifier\n",
        "    layer = Dense(units=64,name='FC1',kernel_initializer=initializer)(layer)\n",
        "    layer = Activation('relu')(layer)\n",
        "    #Dropout\n",
        "    layer = Dropout(0.5)(layer)\n",
        "    layer = Dense(nb_classes,name='Output_layer',kernel_initializer=initializer)(layer)\n",
        "    #Final Output Layer\n",
        "    layer = Activation(finalAct)(layer)\n",
        "    model = Model(inputs=inputs,outputs=layer)\n",
        "    return model"
      ],
      "execution_count": 30,
      "outputs": []
    },
    {
      "cell_type": "code",
      "metadata": {
        "id": "EhNCRpSA6T3_",
        "colab_type": "code",
        "colab": {
          "base_uri": "https://localhost:8080/",
          "height": 443
        },
        "outputId": "ca622299-c66e-438e-ed79-9218a1b4da19"
      },
      "source": [
        "model = build_model(input=13,LSTM_units=100,nb_classes=1,finalAct='sigmoid')\n",
        "model.summary()"
      ],
      "execution_count": 31,
      "outputs": [
        {
          "output_type": "stream",
          "text": [
            "Model: \"model_1\"\n",
            "_________________________________________________________________\n",
            "Layer (type)                 Output Shape              Param #   \n",
            "=================================================================\n",
            "inputs (InputLayer)          (None, 13)                0         \n",
            "_________________________________________________________________\n",
            "embedding_1 (Embedding)      (None, 13, 200)           36301400  \n",
            "_________________________________________________________________\n",
            "lstm_1 (LSTM)                (None, 100)               120400    \n",
            "_________________________________________________________________\n",
            "FC1 (Dense)                  (None, 64)                6464      \n",
            "_________________________________________________________________\n",
            "activation_1 (Activation)    (None, 64)                0         \n",
            "_________________________________________________________________\n",
            "dropout_1 (Dropout)          (None, 64)                0         \n",
            "_________________________________________________________________\n",
            "Output_layer (Dense)         (None, 1)                 65        \n",
            "_________________________________________________________________\n",
            "activation_2 (Activation)    (None, 1)                 0         \n",
            "=================================================================\n",
            "Total params: 36,428,329\n",
            "Trainable params: 36,428,329\n",
            "Non-trainable params: 0\n",
            "_________________________________________________________________\n"
          ],
          "name": "stdout"
        }
      ]
    },
    {
      "cell_type": "markdown",
      "metadata": {
        "id": "rNF14EWIN5lP",
        "colab_type": "text"
      },
      "source": [
        "## **Model Compiling**"
      ]
    },
    {
      "cell_type": "code",
      "metadata": {
        "id": "0ZK1Zkia6XsV",
        "colab_type": "code",
        "colab": {}
      },
      "source": [
        "#Using Adam optimizer with an initial learning rate of 0.0001\n",
        "opt=Adam(lr=0.001, beta_1=0.91, beta_2=0.999, epsilon=1e-08, decay=0)\n",
        "#Compile the model\n",
        "model.compile(loss='binary_crossentropy',optimizer=opt,metrics=['accuracy'])"
      ],
      "execution_count": 32,
      "outputs": []
    },
    {
      "cell_type": "markdown",
      "metadata": {
        "id": "zVqM7R1zOBB3",
        "colab_type": "text"
      },
      "source": [
        "### **Defining Callback Function**"
      ]
    },
    {
      "cell_type": "code",
      "metadata": {
        "id": "Nm5UiIZy7NI7",
        "colab_type": "code",
        "colab": {}
      },
      "source": [
        "def myCallbacks():\n",
        "\n",
        "    \"\"\"This function returns a list of callbacks\"\"\"\n",
        "\n",
        "    #Model Checkpoint\n",
        "    file_path = r\"/content/drive/My Drive/spamModel.h5\"\n",
        "    checkpoint = callbacks.ModelCheckpoint(file_path,monitor='val_acc',verbose=1,save_best_only=True,mode='auto')\n",
        "\n",
        "    #ReduceLROnPlateau\n",
        "    reduce_lr = callbacks.ReduceLROnPlateau(monitor='val_loss',factor=0.1,patience=5,min_lr=1e-30,cooldown=2,verbose=1)\n",
        "\n",
        "    # EarlyStopping\n",
        "    es = callbacks.EarlyStopping(monitor='val_loss',mode='min',verbose=1,patience=10)\n",
        "\n",
        "    return [checkpoint,reduce_lr, es]"
      ],
      "execution_count": 33,
      "outputs": []
    },
    {
      "cell_type": "markdown",
      "metadata": {
        "id": "7tPY2K9eONUw",
        "colab_type": "text"
      },
      "source": [
        "### **Training Model using Keras.fit_generator()**"
      ]
    },
    {
      "cell_type": "code",
      "metadata": {
        "id": "M1D4Juzl7iEa",
        "colab_type": "code",
        "colab": {}
      },
      "source": [
        "def train_batch_generator(features, labels, batch_size):\n",
        "  # Create empty arrays to contain batch of features and labels#\n",
        "  batch_features = np.zeros((batch_size, 13, ))\n",
        "  batch_labels = np.zeros((batch_size,))\n",
        "  while True:\n",
        "    for i in range(batch_size):\n",
        "      # choose random index in features\n",
        "      index = np.random.choice(len(features),1)\n",
        "      batch_features[i] = features[index]\n",
        "      batch_labels[i] = labels[index]\n",
        "    yield batch_features, batch_labels"
      ],
      "execution_count": 34,
      "outputs": []
    },
    {
      "cell_type": "code",
      "metadata": {
        "id": "R7LRi-gU7lCZ",
        "colab_type": "code",
        "colab": {}
      },
      "source": [
        "def validation_batch_generator(features, labels, batch_size):\n",
        "  # Create empty arrays to contain batch of features and labels#\n",
        "  batch_features = np.zeros((batch_size, 13, ))\n",
        "  batch_labels = np.zeros((batch_size,))\n",
        "  while True:\n",
        "    for i in range(batch_size):\n",
        "      # choose random index in features\n",
        "      index = np.random.choice(len(features),1)\n",
        "      batch_features[i] = features[index]\n",
        "      batch_labels[i] = labels[index]\n",
        "    yield batch_features, batch_labels\n"
      ],
      "execution_count": 35,
      "outputs": []
    },
    {
      "cell_type": "code",
      "metadata": {
        "id": "lO0qFv0J7qnz",
        "colab_type": "code",
        "colab": {
          "base_uri": "https://localhost:8080/",
          "height": 34
        },
        "outputId": "7de570d0-2ddc-4877-982c-de0ec445a6c4"
      },
      "source": [
        "#Defining class weights as the dataset is heavily imbalance\n",
        "class_weight = class_weight.compute_class_weight('balanced',np.unique(y_train),y_train)\n",
        "class_weight_dict = dict(enumerate(class_weight))\n",
        "class_weight_dict"
      ],
      "execution_count": 36,
      "outputs": [
        {
          "output_type": "execute_result",
          "data": {
            "text/plain": [
              "{0: 0.532981269165812, 1: 8.08006002568109}"
            ]
          },
          "metadata": {
            "tags": []
          },
          "execution_count": 36
        }
      ]
    },
    {
      "cell_type": "code",
      "metadata": {
        "id": "dhNPix4-70eG",
        "colab_type": "code",
        "colab": {}
      },
      "source": [
        "#Training batch size\n",
        "tbs = 512\n",
        "#validation batch size\n",
        "vbs = 64\n",
        "training_generator = train_batch_generator(sequences_train_matrix, np.asarray(y_train),tbs)\n",
        "validation_generator = validation_batch_generator(sequences_test_matrix, np.asarray(y_test),vbs)"
      ],
      "execution_count": 37,
      "outputs": []
    },
    {
      "cell_type": "code",
      "metadata": {
        "id": "Yuow6Ry-8Uqk",
        "colab_type": "code",
        "colab": {}
      },
      "source": [
        "epochs = 30\n",
        "steps_per_epoch = int(sequences_train_matrix.shape[0]/512)\n",
        "validation_steps = int(sequences_test_matrix.shape[0]/64)"
      ],
      "execution_count": 38,
      "outputs": []
    },
    {
      "cell_type": "markdown",
      "metadata": {
        "id": "YYekGa7AOiex",
        "colab_type": "text"
      },
      "source": [
        "## **Training Model**"
      ]
    },
    {
      "cell_type": "code",
      "metadata": {
        "id": "TJTW9iRy8aRz",
        "colab_type": "code",
        "colab": {
          "base_uri": "https://localhost:8080/",
          "height": 638
        },
        "outputId": "9a21749b-32e7-4932-e450-08e7cc4736e2"
      },
      "source": [
        "history = model.fit_generator(generator=training_generator,steps_per_epoch=steps_per_epoch,\n",
        "    epochs=epochs,class_weight=class_weight_dict,\n",
        "    validation_data=validation_generator,validation_steps=validation_steps,\n",
        "    callbacks=myCallbacks(),verbose=1)\n"
      ],
      "execution_count": 39,
      "outputs": [
        {
          "output_type": "stream",
          "text": [
            "/usr/local/lib/python3.6/dist-packages/tensorflow/python/framework/indexed_slices.py:434: UserWarning: Converting sparse IndexedSlices to a dense Tensor of unknown shape. This may consume a large amount of memory.\n",
            "  \"Converting sparse IndexedSlices to a dense Tensor of unknown shape. \"\n"
          ],
          "name": "stderr"
        },
        {
          "output_type": "stream",
          "text": [
            "Epoch 1/30\n",
            "2040/2040 [==============================] - 112s 55ms/step - loss: 0.2913 - accuracy: 0.8751 - val_loss: 0.3577 - val_accuracy: 0.8350\n",
            "Epoch 2/30\n",
            "   3/2040 [..............................] - ETA: 1:21 - loss: 0.2121 - accuracy: 0.9036"
          ],
          "name": "stdout"
        },
        {
          "output_type": "stream",
          "text": [
            "/usr/local/lib/python3.6/dist-packages/keras/callbacks/callbacks.py:707: RuntimeWarning: Can save best model only with val_acc available, skipping.\n",
            "  'skipping.' % (self.monitor), RuntimeWarning)\n"
          ],
          "name": "stderr"
        },
        {
          "output_type": "stream",
          "text": [
            "2040/2040 [==============================] - 108s 53ms/step - loss: 0.2263 - accuracy: 0.9026 - val_loss: 0.6615 - val_accuracy: 0.8185\n",
            "Epoch 3/30\n",
            "2040/2040 [==============================] - 108s 53ms/step - loss: 0.1887 - accuracy: 0.9170 - val_loss: 0.5341 - val_accuracy: 0.8077\n",
            "Epoch 4/30\n",
            "2040/2040 [==============================] - 107s 52ms/step - loss: 0.1633 - accuracy: 0.9296 - val_loss: 0.3455 - val_accuracy: 0.8404\n",
            "Epoch 5/30\n",
            "2040/2040 [==============================] - 108s 53ms/step - loss: 0.1403 - accuracy: 0.9401 - val_loss: 0.7684 - val_accuracy: 0.8506\n",
            "Epoch 6/30\n",
            "2040/2040 [==============================] - 108s 53ms/step - loss: 0.1192 - accuracy: 0.9486 - val_loss: 0.6028 - val_accuracy: 0.8556\n",
            "Epoch 7/30\n",
            "2040/2040 [==============================] - 108s 53ms/step - loss: 0.1055 - accuracy: 0.9550 - val_loss: 0.5213 - val_accuracy: 0.8380\n",
            "Epoch 8/30\n",
            "2040/2040 [==============================] - 107s 53ms/step - loss: 0.0922 - accuracy: 0.9609 - val_loss: 1.1170 - val_accuracy: 0.8422\n",
            "Epoch 9/30\n",
            "2040/2040 [==============================] - 108s 53ms/step - loss: 0.0815 - accuracy: 0.9655 - val_loss: 0.7703 - val_accuracy: 0.8547\n",
            "\n",
            "Epoch 00009: ReduceLROnPlateau reducing learning rate to 0.00010000000474974513.\n",
            "Epoch 10/30\n",
            "2040/2040 [==============================] - 108s 53ms/step - loss: 0.0695 - accuracy: 0.9706 - val_loss: 0.8080 - val_accuracy: 0.8464\n",
            "Epoch 11/30\n",
            "2040/2040 [==============================] - 107s 53ms/step - loss: 0.0617 - accuracy: 0.9744 - val_loss: 0.4505 - val_accuracy: 0.8523\n",
            "Epoch 12/30\n",
            "2040/2040 [==============================] - 106s 52ms/step - loss: 0.0549 - accuracy: 0.9770 - val_loss: 0.7769 - val_accuracy: 0.8540\n",
            "Epoch 13/30\n",
            "2040/2040 [==============================] - 105s 51ms/step - loss: 0.0514 - accuracy: 0.9789 - val_loss: 0.8473 - val_accuracy: 0.8591\n",
            "Epoch 14/30\n",
            "2040/2040 [==============================] - 104s 51ms/step - loss: 0.0473 - accuracy: 0.9804 - val_loss: 0.7828 - val_accuracy: 0.8600\n",
            "Epoch 00014: early stopping\n"
          ],
          "name": "stdout"
        }
      ]
    }
  ]
}